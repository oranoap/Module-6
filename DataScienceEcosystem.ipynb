{
 "cells": [
  {
   "cell_type": "markdown",
   "id": "023c4db6-7d6b-4071-a363-a70b0022b420",
   "metadata": {},
   "source": [
    "# Data Science Tools and Ecosystem"
   ]
  },
  {
   "cell_type": "markdown",
   "id": "aee42551-480b-47ac-b7db-c53870291f9b",
   "metadata": {},
   "source": [
    "In this notebook, Data Science Tools and Ecosystem are summarized."
   ]
  },
  {
   "cell_type": "markdown",
   "id": "194fa2d5-4bdf-4cfb-889b-47a16c47bf00",
   "metadata": {},
   "source": [
    "Some of the popular languages that Data Scientists use are:\n",
    "1. Python\n",
    "2. R\n",
    "3. SQL\n",
    "4. Java\n",
    "\n",
    "Some of the commonly used libraries used by Data Scientists include:\n",
    "- Pandas\n",
    "- Matplotlib\n",
    "- Seaborn\n",
    "- NumPy"
   ]
  },
  {
   "cell_type": "markdown",
   "id": "a522bdf7-90b3-4d8d-a049-380213fa41e4",
   "metadata": {},
   "source": [
    "| Data Science Tools |\n",
    "| ------------------ |\n",
    "| Jupyter Notebook   |\n",
    "|         R          |\n",
    "|     Python         |"
   ]
  },
  {
   "cell_type": "markdown",
   "id": "d19c9625-d311-4f12-b278-2c6c84d052ec",
   "metadata": {},
   "source": [
    "### Below are a few examples of evaluating arithmetic expressions in Python\n"
   ]
  },
  {
   "cell_type": "code",
   "execution_count": 17,
   "id": "4a24ba74-b492-48f6-8ce3-59185d2e2c1b",
   "metadata": {},
   "outputs": [
    {
     "data": {
      "text/plain": [
       "17"
      ]
     },
     "execution_count": 17,
     "metadata": {},
     "output_type": "execute_result"
    }
   ],
   "source": [
    "(3*4)+5"
   ]
  },
  {
   "cell_type": "code",
   "execution_count": 23,
   "id": "371821f6-939a-48cc-b84a-7686b736a5c6",
   "metadata": {},
   "outputs": [
    {
     "name": "stdout",
     "output_type": "stream",
     "text": [
      "3.3333333333333335\n"
     ]
    }
   ],
   "source": [
    "#This will convert 200 minutes to hours by diving by 60\n",
    "minutes_hours = 200 / 60\n",
    "print(minutes_hours)"
   ]
  },
  {
   "cell_type": "markdown",
   "id": "58b2d64c-bcf7-49b2-95d3-f38ad76f1f6b",
   "metadata": {},
   "source": [
    "__Objectives:__\n",
    "\n",
    "- List popular languages for Data Science\n",
    "- Common Libraries use by Data Scientists\n",
    "- Data S"
   ]
  },
  {
   "cell_type": "markdown",
   "id": "e2477ac9-30c4-41b6-8c0c-6454d0bfbc9f",
   "metadata": {},
   "source": [
    "## Author\n",
    "Oran Pearson\n"
   ]
  },
  {
   "cell_type": "code",
   "execution_count": null,
   "id": "5736a352-58a1-44c6-a944-3808e086f369",
   "metadata": {},
   "outputs": [],
   "source": []
  }
 ],
 "metadata": {
  "kernelspec": {
   "display_name": "Python 3 (ipykernel)",
   "language": "python",
   "name": "python3"
  },
  "language_info": {
   "codemirror_mode": {
    "name": "ipython",
    "version": 3
   },
   "file_extension": ".py",
   "mimetype": "text/x-python",
   "name": "python",
   "nbconvert_exporter": "python",
   "pygments_lexer": "ipython3",
   "version": "3.11.7"
  }
 },
 "nbformat": 4,
 "nbformat_minor": 5
}
